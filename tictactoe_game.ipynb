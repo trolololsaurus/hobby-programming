{
 "cells": [
  {
   "cell_type": "code",
   "execution_count": 10,
   "metadata": {},
   "outputs": [],
   "source": [
    "####################\n",
    "# TIC TAC TOE GAME #\n",
    "####################\n",
    "\n",
    "#Show the current game status\n",
    "def showGame(check):\n",
    "    print('\\n')\n",
    "    print('  ', ['1','2','3'])\n",
    "    print('A:',check[0])\n",
    "    print('B:',check[1])\n",
    "    print('C:',check[2])\n",
    "\n",
    "#Player input\n",
    "def playerInput():\n",
    "    result = ' '\n",
    "    correct = ['A1','A2','A3','B1','B2','B3','C1','C2','C3'] #Only acceptable input    \n",
    "    #loop until input is 'correct'\n",
    "    while result not in correct:\n",
    "        result = str(input('Enter [Row][Column] (eg. A3): ')).upper()\n",
    "    return result\n",
    "\n",
    "def enterPosition(check, posKey, playerNo):\n",
    "    #Dictionary: TicTacToe position in corresponding postion to the array of arrays\n",
    "    #   1 2 3 \n",
    "    # A • • •\n",
    "    # B • • •\n",
    "    # C • • •\n",
    "    dTTT = {'A1':(0,0), 'A2':(0,1), 'A3':(0,2), \n",
    "            'B1':(1,0), 'B2':(1,1), 'B3':(1,2), \n",
    "            'C1':(2,0), 'C2':(2,1), 'C3':(2,2)}\n",
    "    pos = dTTT.get(posKey) #get value from key\n",
    "    \n",
    "    while check[pos[0]][pos[1]] != ' ': #if position in tictactoe is not empty\n",
    "        print('**Position is already occupied**')\n",
    "        pos = dTTT.get(playerInput()) #update position\n",
    "    \n",
    "    if playerNo == 1: #Player 1 is 'X', Player 2 is 'O'\n",
    "        check[pos[0]][pos[1]] = 'X'\n",
    "    else:\n",
    "        check[pos[0]][pos[1]] = 'O'\n",
    "    \n",
    "    return check\n",
    "\n",
    "#Win & Stalemate Conditions\n",
    "def checkWin(check, player):\n",
    "    stalemate = ' '\n",
    "    for i in range (0,3):\n",
    "        #row condition\n",
    "        if check[i] == ['O','O','O'] or check[i] == ['X','X','X']:\n",
    "            print('\\n**PLAYER :',player, 'WINS**')\n",
    "            return True  \n",
    "        #column condition    \n",
    "        if (check[0][i] == check[1][i] == check[2][i]) and check[0][i] != ' ': #rejects false positive if column is empty \n",
    "            print('\\n**PLAYER :',player, 'WINS**')\n",
    "            return True     \n",
    "        \n",
    "    #cross condition\n",
    "    if ((check[0][0] == check[1][1] == check[2][2]) or (check[0][2] == check[1][1] == check[2][0])) and check[1][1] != ' ':\n",
    "        print('\\n**PLAYER :',player, 'WINS**')\n",
    "        return True  \n",
    "\n",
    "    #initialise the dictionary to a list for checking\n",
    "    stalemate = check[0] + check[1] + check[2]  \n",
    "    if ' ' not in stalemate: #no slots are empty\n",
    "        print('\\n***STALEMATE***')\n",
    "        return True\n",
    "    \n",
    "    return False\n",
    "\n",
    "#Play Tic-Tac-Toe\n",
    "def playTicTacToe():\n",
    "    #Initialise the Tic-Tac-Toe grid\n",
    "    tictactoe = [' ', ' ', ' '], [' ', ' ', ' '], [' ', ' ', ' ']\n",
    "    pNum = 1 #default starting player is 1\n",
    "    \n",
    "    for i in range (0,9): #3x3 grid - 9 chances, break if won\n",
    "        showGame(tictactoe)\n",
    "        if i%2 == 0: #Even is Player One, Odd is Player Two\n",
    "            pNum = 1\n",
    "        else:\n",
    "            pNum = 2\n",
    "\n",
    "        print('Ready Player','[',pNum,'] ')\n",
    "        tictactoe = enterPosition(tictactoe, playerInput(), pNum) #player input\n",
    "\n",
    "        if checkWin(tictactoe, pNum) == True: #check for win and stalemate conditions\n",
    "            print(showGame(tictactoe))\n",
    "            break\n"
   ]
  },
  {
   "cell_type": "code",
   "execution_count": 11,
   "metadata": {},
   "outputs": [
    {
     "name": "stdout",
     "output_type": "stream",
     "text": [
      "\n",
      "\n",
      "   ['1', '2', '3']\n",
      "A: [' ', ' ', ' ']\n",
      "B: [' ', ' ', ' ']\n",
      "C: [' ', ' ', ' ']\n",
      "Ready Player [ 1 ] \n"
     ]
    },
    {
     "ename": "KeyboardInterrupt",
     "evalue": "Interrupted by user",
     "output_type": "error",
     "traceback": [
      "\u001b[1;31m---------------------------------------------------------------------------\u001b[0m",
      "\u001b[1;31mKeyboardInterrupt\u001b[0m                         Traceback (most recent call last)",
      "\u001b[1;32m<ipython-input-11-2f277ad63ff8>\u001b[0m in \u001b[0;36m<module>\u001b[1;34m\u001b[0m\n\u001b[1;32m----> 1\u001b[1;33m \u001b[0mplayTicTacToe\u001b[0m\u001b[1;33m(\u001b[0m\u001b[1;33m)\u001b[0m\u001b[1;33m\u001b[0m\u001b[1;33m\u001b[0m\u001b[0m\n\u001b[0m",
      "\u001b[1;32m<ipython-input-10-395b942d8b37>\u001b[0m in \u001b[0;36mplayTicTacToe\u001b[1;34m()\u001b[0m\n\u001b[0;32m     82\u001b[0m \u001b[1;33m\u001b[0m\u001b[0m\n\u001b[0;32m     83\u001b[0m         \u001b[0mprint\u001b[0m\u001b[1;33m(\u001b[0m\u001b[1;34m'Ready Player'\u001b[0m\u001b[1;33m,\u001b[0m\u001b[1;34m'['\u001b[0m\u001b[1;33m,\u001b[0m\u001b[0mpNum\u001b[0m\u001b[1;33m,\u001b[0m\u001b[1;34m'] '\u001b[0m\u001b[1;33m)\u001b[0m\u001b[1;33m\u001b[0m\u001b[1;33m\u001b[0m\u001b[0m\n\u001b[1;32m---> 84\u001b[1;33m         \u001b[0mtictactoe\u001b[0m \u001b[1;33m=\u001b[0m \u001b[0menterPosition\u001b[0m\u001b[1;33m(\u001b[0m\u001b[0mtictactoe\u001b[0m\u001b[1;33m,\u001b[0m \u001b[0mplayerInput\u001b[0m\u001b[1;33m(\u001b[0m\u001b[1;33m)\u001b[0m\u001b[1;33m,\u001b[0m \u001b[0mpNum\u001b[0m\u001b[1;33m)\u001b[0m \u001b[1;31m#player input\u001b[0m\u001b[1;33m\u001b[0m\u001b[1;33m\u001b[0m\u001b[0m\n\u001b[0m\u001b[0;32m     85\u001b[0m \u001b[1;33m\u001b[0m\u001b[0m\n\u001b[0;32m     86\u001b[0m         \u001b[1;32mif\u001b[0m \u001b[0mcheckWin\u001b[0m\u001b[1;33m(\u001b[0m\u001b[0mtictactoe\u001b[0m\u001b[1;33m,\u001b[0m \u001b[0mpNum\u001b[0m\u001b[1;33m)\u001b[0m \u001b[1;33m==\u001b[0m \u001b[1;32mTrue\u001b[0m\u001b[1;33m:\u001b[0m \u001b[1;31m#check for win and stalemate conditions\u001b[0m\u001b[1;33m\u001b[0m\u001b[1;33m\u001b[0m\u001b[0m\n",
      "\u001b[1;32m<ipython-input-10-395b942d8b37>\u001b[0m in \u001b[0;36mplayerInput\u001b[1;34m()\u001b[0m\n\u001b[0;32m     17\u001b[0m     \u001b[1;31m#loop until input is 'correct'\u001b[0m\u001b[1;33m\u001b[0m\u001b[1;33m\u001b[0m\u001b[1;33m\u001b[0m\u001b[0m\n\u001b[0;32m     18\u001b[0m     \u001b[1;32mwhile\u001b[0m \u001b[0mresult\u001b[0m \u001b[1;32mnot\u001b[0m \u001b[1;32min\u001b[0m \u001b[0mcorrect\u001b[0m\u001b[1;33m:\u001b[0m\u001b[1;33m\u001b[0m\u001b[1;33m\u001b[0m\u001b[0m\n\u001b[1;32m---> 19\u001b[1;33m         \u001b[0mresult\u001b[0m \u001b[1;33m=\u001b[0m \u001b[0mstr\u001b[0m\u001b[1;33m(\u001b[0m\u001b[0minput\u001b[0m\u001b[1;33m(\u001b[0m\u001b[1;34m'Enter [Row][Column] (eg. A3): '\u001b[0m\u001b[1;33m)\u001b[0m\u001b[1;33m)\u001b[0m\u001b[1;33m.\u001b[0m\u001b[0mupper\u001b[0m\u001b[1;33m(\u001b[0m\u001b[1;33m)\u001b[0m\u001b[1;33m\u001b[0m\u001b[1;33m\u001b[0m\u001b[0m\n\u001b[0m\u001b[0;32m     20\u001b[0m     \u001b[1;32mreturn\u001b[0m \u001b[0mresult\u001b[0m\u001b[1;33m\u001b[0m\u001b[1;33m\u001b[0m\u001b[0m\n\u001b[0;32m     21\u001b[0m \u001b[1;33m\u001b[0m\u001b[0m\n",
      "\u001b[1;32m~\\anaconda3\\lib\\site-packages\\ipykernel\\kernelbase.py\u001b[0m in \u001b[0;36mraw_input\u001b[1;34m(self, prompt)\u001b[0m\n\u001b[0;32m    858\u001b[0m                 \u001b[1;34m\"raw_input was called, but this frontend does not support input requests.\"\u001b[0m\u001b[1;33m\u001b[0m\u001b[1;33m\u001b[0m\u001b[0m\n\u001b[0;32m    859\u001b[0m             )\n\u001b[1;32m--> 860\u001b[1;33m         return self._input_request(str(prompt),\n\u001b[0m\u001b[0;32m    861\u001b[0m             \u001b[0mself\u001b[0m\u001b[1;33m.\u001b[0m\u001b[0m_parent_ident\u001b[0m\u001b[1;33m,\u001b[0m\u001b[1;33m\u001b[0m\u001b[1;33m\u001b[0m\u001b[0m\n\u001b[0;32m    862\u001b[0m             \u001b[0mself\u001b[0m\u001b[1;33m.\u001b[0m\u001b[0m_parent_header\u001b[0m\u001b[1;33m,\u001b[0m\u001b[1;33m\u001b[0m\u001b[1;33m\u001b[0m\u001b[0m\n",
      "\u001b[1;32m~\\anaconda3\\lib\\site-packages\\ipykernel\\kernelbase.py\u001b[0m in \u001b[0;36m_input_request\u001b[1;34m(self, prompt, ident, parent, password)\u001b[0m\n\u001b[0;32m    902\u001b[0m             \u001b[1;32mexcept\u001b[0m \u001b[0mKeyboardInterrupt\u001b[0m\u001b[1;33m:\u001b[0m\u001b[1;33m\u001b[0m\u001b[1;33m\u001b[0m\u001b[0m\n\u001b[0;32m    903\u001b[0m                 \u001b[1;31m# re-raise KeyboardInterrupt, to truncate traceback\u001b[0m\u001b[1;33m\u001b[0m\u001b[1;33m\u001b[0m\u001b[1;33m\u001b[0m\u001b[0m\n\u001b[1;32m--> 904\u001b[1;33m                 \u001b[1;32mraise\u001b[0m \u001b[0mKeyboardInterrupt\u001b[0m\u001b[1;33m(\u001b[0m\u001b[1;34m\"Interrupted by user\"\u001b[0m\u001b[1;33m)\u001b[0m \u001b[1;32mfrom\u001b[0m \u001b[1;32mNone\u001b[0m\u001b[1;33m\u001b[0m\u001b[1;33m\u001b[0m\u001b[0m\n\u001b[0m\u001b[0;32m    905\u001b[0m             \u001b[1;32mexcept\u001b[0m \u001b[0mException\u001b[0m \u001b[1;32mas\u001b[0m \u001b[0me\u001b[0m\u001b[1;33m:\u001b[0m\u001b[1;33m\u001b[0m\u001b[1;33m\u001b[0m\u001b[0m\n\u001b[0;32m    906\u001b[0m                 \u001b[0mself\u001b[0m\u001b[1;33m.\u001b[0m\u001b[0mlog\u001b[0m\u001b[1;33m.\u001b[0m\u001b[0mwarning\u001b[0m\u001b[1;33m(\u001b[0m\u001b[1;34m\"Invalid Message:\"\u001b[0m\u001b[1;33m,\u001b[0m \u001b[0mexc_info\u001b[0m\u001b[1;33m=\u001b[0m\u001b[1;32mTrue\u001b[0m\u001b[1;33m)\u001b[0m\u001b[1;33m\u001b[0m\u001b[1;33m\u001b[0m\u001b[0m\n",
      "\u001b[1;31mKeyboardInterrupt\u001b[0m: Interrupted by user"
     ]
    }
   ],
   "source": [
    "playTicTacToe()"
   ]
  },
  {
   "cell_type": "code",
   "execution_count": null,
   "metadata": {},
   "outputs": [],
   "source": []
  }
 ],
 "metadata": {
  "kernelspec": {
   "display_name": "Python 3",
   "language": "python",
   "name": "python3"
  },
  "language_info": {
   "codemirror_mode": {
    "name": "ipython",
    "version": 3
   },
   "file_extension": ".py",
   "mimetype": "text/x-python",
   "name": "python",
   "nbconvert_exporter": "python",
   "pygments_lexer": "ipython3",
   "version": "3.8.3"
  }
 },
 "nbformat": 4,
 "nbformat_minor": 4
}
