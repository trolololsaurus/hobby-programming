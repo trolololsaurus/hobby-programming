{
 "cells": [
  {
   "cell_type": "code",
   "execution_count": 31,
   "metadata": {},
   "outputs": [],
   "source": [
    "####################\n",
    "# TIC TAC TOE GAME #\n",
    "####################\n",
    "\n",
    "#Show the current game status\n",
    "def showGame(check):\n",
    "    print('\\n')\n",
    "    print('  ', ['1','2','3'])\n",
    "    print('A:',check[0])\n",
    "    print('B:',check[1])\n",
    "    print('C:',check[2])      \n",
    "\n",
    "#Player input\n",
    "def playerInput():\n",
    "    result = ' '\n",
    "    correct = ['A1','A2','A3','B1','B2','B3','C1','C2','C3'] #Only acceptable input    \n",
    "    #loop until input is 'correct'\n",
    "    while result not in correct:\n",
    "        result = str(input('Enter [Row][Column] (eg. A3): ')).upper()\n",
    "    return result\n",
    "\n",
    "def enterPosition(check, posKey, playerNo):\n",
    "    #Dictionary: TicTacToe position in corresponding postion to the array of arrays\n",
    "    dTTT = {'A1':(0,0), 'A2':(0,1), 'A3':(0,2), 'B1':(1,0), 'B2':(1,1), 'B3':(1,2), 'C1':(2,0), 'C2':(2,1), 'C3':(2,2)}\n",
    "    pos = dTTT.get(posKey) #get value from key\n",
    "    \n",
    "    while check[pos[0]][pos[1]] != ' ': #if position in tictactoe is not empty\n",
    "        print('**Position is already occupied**')\n",
    "        pos = dTTT.get(playerInput()) #update position\n",
    "    \n",
    "    if playerNo == 1: #Player 1 is 'X', Player 2 is 'O'\n",
    "        check[pos[0]][pos[1]] = 'X'\n",
    "    else:\n",
    "        check[pos[0]][pos[1]] = 'O'\n",
    "    \n",
    "    return check\n",
    "\n",
    "#Win & Stalemate Conditions\n",
    "def checkWin(check, player):\n",
    "    stalemate = ' '\n",
    "    for i in range (0,3):\n",
    "        #row condition\n",
    "        if check[i] == ['O','O','O'] or check[i] == ['X','X','X']:\n",
    "            print('\\n**PLAYER :',player, 'WINS**')\n",
    "            return True  \n",
    "        #column condition    \n",
    "        if (check[0][i] == check[1][i] == check[2][i]) and check[0][i] != ' ': #rejects false positive if column is empty \n",
    "            print('\\n**PLAYER :',player, 'WINS**')\n",
    "            return True     \n",
    "        \n",
    "    #cross condition\n",
    "    if ((check[0][0] == check[1][1] == check[2][2]) or (check[0][2] == check[1][1] == check[2][0])) and check[1][1] != ' ':\n",
    "        print('\\n**PLAYER :',player, 'WINS**')\n",
    "        return True  \n",
    "\n",
    "    #initialise the dictionary to a list for checking\n",
    "    stalemate = check[0] + check[1] + check[2]  \n",
    "    if ' ' not in stalemate: #no slots are empty\n",
    "        print('\\n***STALEMATE***')\n",
    "        return True\n",
    "    \n",
    "    return False\n",
    "\n",
    "#Play Tic-Tac-Toe\n",
    "def playTicTacToe():\n",
    "    #Initialise the Tic-Tac-Toe dictionary\n",
    "    #   1 2 3 \n",
    "    # A • • •\n",
    "    # B • • •\n",
    "    # C • • •\n",
    "    tictactoe = [' ', ' ', ' '], [' ', ' ', ' '], [' ', ' ', ' ']\n",
    "    pNum = 1\n",
    "    \n",
    "    for i in range (0,9): #3x3 grid - 9 chances, break if won\n",
    "        print(showGame(tictactoe))\n",
    "        if i%2 == 0: #Even is Player One, Odd is Player Two\n",
    "            pNum = 1\n",
    "        else:\n",
    "            pNum = 2\n",
    "\n",
    "        print('[Ready Player]',pNum)\n",
    "        tictactoe = enterPosition(tictactoe, playerInput(), pNum) #player input\n",
    "\n",
    "        if checkWin(tictactoe, pNum) == True: #check for win and stalemate conditions\n",
    "            print(showGame(tictactoe))\n",
    "            break\n"
   ]
  },
  {
   "cell_type": "code",
   "execution_count": 32,
   "metadata": {},
   "outputs": [
    {
     "name": "stdout",
     "output_type": "stream",
     "text": [
      "\n",
      "\n",
      "   ['1', '2', '3']\n",
      "A: [' ', ' ', ' ']\n",
      "B: [' ', ' ', ' ']\n",
      "C: [' ', ' ', ' ']\n",
      "None\n",
      "[Ready Player] 1\n"
     ]
    },
    {
     "name": "stdin",
     "output_type": "stream",
     "text": [
      "Enter [Row][Column] (eg. A3):  A1\n"
     ]
    },
    {
     "name": "stdout",
     "output_type": "stream",
     "text": [
      "\n",
      "\n",
      "   ['1', '2', '3']\n",
      "A: ['X', ' ', ' ']\n",
      "B: [' ', ' ', ' ']\n",
      "C: [' ', ' ', ' ']\n",
      "None\n",
      "[Ready Player] 2\n"
     ]
    },
    {
     "name": "stdin",
     "output_type": "stream",
     "text": [
      "Enter [Row][Column] (eg. A3):  A2\n"
     ]
    },
    {
     "name": "stdout",
     "output_type": "stream",
     "text": [
      "\n",
      "\n",
      "   ['1', '2', '3']\n",
      "A: ['X', 'O', ' ']\n",
      "B: [' ', ' ', ' ']\n",
      "C: [' ', ' ', ' ']\n",
      "None\n",
      "[Ready Player] 1\n"
     ]
    },
    {
     "name": "stdin",
     "output_type": "stream",
     "text": [
      "Enter [Row][Column] (eg. A3):  A3\n"
     ]
    },
    {
     "name": "stdout",
     "output_type": "stream",
     "text": [
      "\n",
      "\n",
      "   ['1', '2', '3']\n",
      "A: ['X', 'O', 'X']\n",
      "B: [' ', ' ', ' ']\n",
      "C: [' ', ' ', ' ']\n",
      "None\n",
      "[Ready Player] 2\n"
     ]
    },
    {
     "name": "stdin",
     "output_type": "stream",
     "text": [
      "Enter [Row][Column] (eg. A3):  A4\n",
      "Enter [Row][Column] (eg. A3):  B2\n"
     ]
    },
    {
     "name": "stdout",
     "output_type": "stream",
     "text": [
      "\n",
      "\n",
      "   ['1', '2', '3']\n",
      "A: ['X', 'O', 'X']\n",
      "B: [' ', 'O', ' ']\n",
      "C: [' ', ' ', ' ']\n",
      "None\n",
      "[Ready Player] 1\n"
     ]
    },
    {
     "name": "stdin",
     "output_type": "stream",
     "text": [
      "Enter [Row][Column] (eg. A3):  C2\n"
     ]
    },
    {
     "name": "stdout",
     "output_type": "stream",
     "text": [
      "\n",
      "\n",
      "   ['1', '2', '3']\n",
      "A: ['X', 'O', 'X']\n",
      "B: [' ', 'O', ' ']\n",
      "C: [' ', 'X', ' ']\n",
      "None\n",
      "[Ready Player] 2\n"
     ]
    },
    {
     "name": "stdin",
     "output_type": "stream",
     "text": [
      "Enter [Row][Column] (eg. A3):  C1\n"
     ]
    },
    {
     "name": "stdout",
     "output_type": "stream",
     "text": [
      "\n",
      "\n",
      "   ['1', '2', '3']\n",
      "A: ['X', 'O', 'X']\n",
      "B: [' ', 'O', ' ']\n",
      "C: ['O', 'X', ' ']\n",
      "None\n",
      "[Ready Player] 1\n"
     ]
    },
    {
     "name": "stdin",
     "output_type": "stream",
     "text": [
      "Enter [Row][Column] (eg. A3):  B3\n"
     ]
    },
    {
     "name": "stdout",
     "output_type": "stream",
     "text": [
      "\n",
      "\n",
      "   ['1', '2', '3']\n",
      "A: ['X', 'O', 'X']\n",
      "B: [' ', 'O', 'X']\n",
      "C: ['O', 'X', ' ']\n",
      "None\n",
      "[Ready Player] 2\n"
     ]
    },
    {
     "name": "stdin",
     "output_type": "stream",
     "text": [
      "Enter [Row][Column] (eg. A3):  C3\n"
     ]
    },
    {
     "name": "stdout",
     "output_type": "stream",
     "text": [
      "\n",
      "\n",
      "   ['1', '2', '3']\n",
      "A: ['X', 'O', 'X']\n",
      "B: [' ', 'O', 'X']\n",
      "C: ['O', 'X', 'O']\n",
      "None\n",
      "[Ready Player] 1\n"
     ]
    },
    {
     "name": "stdin",
     "output_type": "stream",
     "text": [
      "Enter [Row][Column] (eg. A3):  B1\n"
     ]
    },
    {
     "name": "stdout",
     "output_type": "stream",
     "text": [
      "\n",
      "***STALEMATE***\n",
      "\n",
      "\n",
      "   ['1', '2', '3']\n",
      "A: ['X', 'O', 'X']\n",
      "B: ['X', 'O', 'X']\n",
      "C: ['O', 'X', 'O']\n",
      "None\n"
     ]
    }
   ],
   "source": [
    "playTicTacToe()"
   ]
  },
  {
   "cell_type": "code",
   "execution_count": null,
   "metadata": {},
   "outputs": [],
   "source": []
  },
  {
   "cell_type": "code",
   "execution_count": null,
   "metadata": {},
   "outputs": [],
   "source": []
  }
 ],
 "metadata": {
  "kernelspec": {
   "display_name": "Python 3",
   "language": "python",
   "name": "python3"
  },
  "language_info": {
   "codemirror_mode": {
    "name": "ipython",
    "version": 3
   },
   "file_extension": ".py",
   "mimetype": "text/x-python",
   "name": "python",
   "nbconvert_exporter": "python",
   "pygments_lexer": "ipython3",
   "version": "3.8.3"
  }
 },
 "nbformat": 4,
 "nbformat_minor": 4
}
